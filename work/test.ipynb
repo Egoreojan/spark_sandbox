{
 "cells": [
  {
   "cell_type": "code",
   "execution_count": 1,
   "id": "b740da39-824e-4776-9fe7-95b6c8b1b2bd",
   "metadata": {},
   "outputs": [
    {
     "name": "stdout",
     "output_type": "stream",
     "text": [
      "+-----+------+\n",
      "| name|salary|\n",
      "+-----+------+\n",
      "|Alice|   200|\n",
      "|  Den|  NULL|\n",
      "|  Bob|   100|\n",
      "+-----+------+\n",
      "\n",
      "+---+-----+\n",
      "| id| name|\n",
      "+---+-----+\n",
      "|  1|Alice|\n",
      "|  2|  Bob|\n",
      "|  3|  Den|\n",
      "+---+-----+\n",
      "\n"
     ]
    }
   ],
   "source": [
    "# Создание DataFrame и использование join\n",
    "\n",
    "from pyspark.sql import SparkSession\n",
    "from pyspark.sql.types import StructType, StructField, StringType, IntegerType\n",
    "from pyspark.sql.functions import avg, max, asc, desc, col\n",
    "\n",
    "spark = SparkSession.builder \\\n",
    "    .appName('schema') \\\n",
    "    .config('spark.master', 'spark://spark-master:7077') \\\n",
    "    .getOrCreate()\n",
    "\n",
    "df1 = spark.createDataFrame([(1, 'Alice'),(2, 'Bob'),(3, 'Den')], ['id', 'name'])\n",
    "df2 = spark.createDataFrame([(1, 2, 100), (2, 1, 200)], ['id', 'user_id', 'salary'])\n",
    "\n",
    "df_join = df1.join(df2, df1.id == df2.user_id, how='left').select(df1.name, df2.salary)\n",
    "df_join.show()\n",
    "\n",
    "df1.show()\n",
    "\n",
    "spark.stop()\n"
   ]
  },
  {
   "cell_type": "code",
   "execution_count": 1,
   "id": "020a1a21-6444-4f7e-bcd2-7676d1ba5064",
   "metadata": {},
   "outputs": [
    {
     "name": "stdout",
     "output_type": "stream",
     "text": [
      "+---+-----+\n",
      "| id| name|\n",
      "+---+-----+\n",
      "|  1|Alice|\n",
      "|  2|  Bob|\n",
      "|  3|  Den|\n",
      "+---+-----+\n",
      "\n"
     ]
    }
   ],
   "source": [
    "# Запись данных в Parquet\n",
    "from pyspark.sql import SparkSession\n",
    "\n",
    "spark = SparkSession.builder \\\n",
    "    .appName('Parquet-HDFS') \\\n",
    "    .config('spark.master', 'spark://spark-master:7077') \\\n",
    "    .config('spark.hadoop.fs.defaultFS', 'hdfs://hadoop-namenode:9000') \\\n",
    "    .getOrCreate()\n",
    "\n",
    "path = 'hdfs://hadoop-namenode:9000/user/jovyan/parquet'\n",
    "\n",
    "df1 = spark.createDataFrame([(1, 'Alice'),(2, 'Bob'),(3, 'Den')], ['id', 'name'])\n",
    "df1.write.format('parquet').mode('overwrite').save(path)\n",
    "\n",
    "df_parquet = spark.read.parquet(path)\n",
    "df_parquet.show()\n",
    "\n",
    "spark.stop()\n"
   ]
  },
  {
   "cell_type": "code",
   "execution_count": null,
   "id": "524a875e-3efb-4628-8f95-0687d55c3bfa",
   "metadata": {},
   "outputs": [],
   "source": []
  }
 ],
 "metadata": {
  "kernelspec": {
   "display_name": "Python 3 (ipykernel)",
   "language": "python",
   "name": "python3"
  },
  "language_info": {
   "codemirror_mode": {
    "name": "ipython",
    "version": 3
   },
   "file_extension": ".py",
   "mimetype": "text/x-python",
   "name": "python",
   "nbconvert_exporter": "python",
   "pygments_lexer": "ipython3",
   "version": "3.11.6"
  }
 },
 "nbformat": 4,
 "nbformat_minor": 5
}
